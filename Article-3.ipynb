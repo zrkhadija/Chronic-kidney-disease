{
 "cells": [
  {
   "cell_type": "markdown",
   "id": "847d0210",
   "metadata": {},
   "source": [
    "<div style='font-size:100%;'>\n",
    "    <a id='import'></a>\n",
    "    <h1 style='color: black; font-weight: bold; font-family: Cascadia code;'>\n",
    "        <center> Importing necessary libraries 📚 </center>\n",
    "    </h1>\n",
    " \n",
    "</div> "
   ]
  },
  {
   "cell_type": "code",
   "execution_count": 1,
   "id": "27deb794",
   "metadata": {},
   "outputs": [],
   "source": [
    "import numpy as np\n",
    "import pandas as pd\n",
    "import seaborn as sns\n",
    "from matplotlib import pyplot as plt\n",
    "from numpy import isnan\n",
    "from pandas import read_csv\n",
    "from datetime import date\n",
    "import warnings\n",
    "warnings.filterwarnings('ignore')"
   ]
  },
  {
   "cell_type": "markdown",
   "id": "bd86e4d5",
   "metadata": {},
   "source": [
    "<div style='font-size:100%;'>\n",
    "    <a id='clean'></a>\n",
    "    <h1 style='color: black; font-weight: bold; font-family: Cascadia code;'>\n",
    "        <center> Importing the dataset ⬇️ </center>\n",
    "    </h1>\n",
    "</div>"
   ]
  },
  {
   "cell_type": "code",
   "execution_count": 2,
   "id": "31f59fca",
   "metadata": {},
   "outputs": [],
   "source": [
    "df=pd.read_csv('csv_result-chronic_kidney_disease.csv',na_values='?')\n",
    "df.drop('id', axis=1, inplace=True)"
   ]
  },
  {
   "cell_type": "markdown",
   "id": "79cb81c7",
   "metadata": {},
   "source": [
    "<div style='font-size:100%;'>\n",
    "    <a id='discover'></a>\n",
    "    <h1 style='color: black; font-weight: bold; font-family: Cascadia code;'>\n",
    "        <center> Discovering the dataset 🔎 </center>\n",
    "    </h1>\n",
    "</div> "
   ]
  },
  {
   "cell_type": "code",
   "execution_count": 3,
   "id": "03157069",
   "metadata": {
    "scrolled": true
   },
   "outputs": [
    {
     "data": {
      "text/html": [
       "<div>\n",
       "<style scoped>\n",
       "    .dataframe tbody tr th:only-of-type {\n",
       "        vertical-align: middle;\n",
       "    }\n",
       "\n",
       "    .dataframe tbody tr th {\n",
       "        vertical-align: top;\n",
       "    }\n",
       "\n",
       "    .dataframe thead th {\n",
       "        text-align: right;\n",
       "    }\n",
       "</style>\n",
       "<table border=\"1\" class=\"dataframe\">\n",
       "  <thead>\n",
       "    <tr style=\"text-align: right;\">\n",
       "      <th></th>\n",
       "      <th>'age'</th>\n",
       "      <th>'bp'</th>\n",
       "      <th>'sg'</th>\n",
       "      <th>'al'</th>\n",
       "      <th>'su'</th>\n",
       "      <th>'rbc'</th>\n",
       "      <th>'pc'</th>\n",
       "      <th>'pcc'</th>\n",
       "      <th>'ba'</th>\n",
       "      <th>'bgr'</th>\n",
       "      <th>...</th>\n",
       "      <th>'pcv'</th>\n",
       "      <th>'wbcc'</th>\n",
       "      <th>'rbcc'</th>\n",
       "      <th>'htn'</th>\n",
       "      <th>'dm'</th>\n",
       "      <th>'cad'</th>\n",
       "      <th>'appet'</th>\n",
       "      <th>'pe'</th>\n",
       "      <th>'ane'</th>\n",
       "      <th>'class'</th>\n",
       "    </tr>\n",
       "  </thead>\n",
       "  <tbody>\n",
       "    <tr>\n",
       "      <th>0</th>\n",
       "      <td>48.0</td>\n",
       "      <td>80.0</td>\n",
       "      <td>1.020</td>\n",
       "      <td>1.0</td>\n",
       "      <td>0.0</td>\n",
       "      <td>NaN</td>\n",
       "      <td>normal</td>\n",
       "      <td>notpresent</td>\n",
       "      <td>notpresent</td>\n",
       "      <td>121.0</td>\n",
       "      <td>...</td>\n",
       "      <td>44.0</td>\n",
       "      <td>7800.0</td>\n",
       "      <td>5.2</td>\n",
       "      <td>yes</td>\n",
       "      <td>yes</td>\n",
       "      <td>no</td>\n",
       "      <td>good</td>\n",
       "      <td>no</td>\n",
       "      <td>no</td>\n",
       "      <td>ckd</td>\n",
       "    </tr>\n",
       "    <tr>\n",
       "      <th>1</th>\n",
       "      <td>7.0</td>\n",
       "      <td>50.0</td>\n",
       "      <td>1.020</td>\n",
       "      <td>4.0</td>\n",
       "      <td>0.0</td>\n",
       "      <td>NaN</td>\n",
       "      <td>normal</td>\n",
       "      <td>notpresent</td>\n",
       "      <td>notpresent</td>\n",
       "      <td>NaN</td>\n",
       "      <td>...</td>\n",
       "      <td>38.0</td>\n",
       "      <td>6000.0</td>\n",
       "      <td>NaN</td>\n",
       "      <td>no</td>\n",
       "      <td>no</td>\n",
       "      <td>no</td>\n",
       "      <td>good</td>\n",
       "      <td>no</td>\n",
       "      <td>no</td>\n",
       "      <td>ckd</td>\n",
       "    </tr>\n",
       "    <tr>\n",
       "      <th>2</th>\n",
       "      <td>62.0</td>\n",
       "      <td>80.0</td>\n",
       "      <td>1.010</td>\n",
       "      <td>2.0</td>\n",
       "      <td>3.0</td>\n",
       "      <td>normal</td>\n",
       "      <td>normal</td>\n",
       "      <td>notpresent</td>\n",
       "      <td>notpresent</td>\n",
       "      <td>423.0</td>\n",
       "      <td>...</td>\n",
       "      <td>31.0</td>\n",
       "      <td>7500.0</td>\n",
       "      <td>NaN</td>\n",
       "      <td>no</td>\n",
       "      <td>yes</td>\n",
       "      <td>no</td>\n",
       "      <td>poor</td>\n",
       "      <td>no</td>\n",
       "      <td>yes</td>\n",
       "      <td>ckd</td>\n",
       "    </tr>\n",
       "    <tr>\n",
       "      <th>3</th>\n",
       "      <td>48.0</td>\n",
       "      <td>70.0</td>\n",
       "      <td>1.005</td>\n",
       "      <td>4.0</td>\n",
       "      <td>0.0</td>\n",
       "      <td>normal</td>\n",
       "      <td>abnormal</td>\n",
       "      <td>present</td>\n",
       "      <td>notpresent</td>\n",
       "      <td>117.0</td>\n",
       "      <td>...</td>\n",
       "      <td>32.0</td>\n",
       "      <td>6700.0</td>\n",
       "      <td>3.9</td>\n",
       "      <td>yes</td>\n",
       "      <td>no</td>\n",
       "      <td>no</td>\n",
       "      <td>poor</td>\n",
       "      <td>yes</td>\n",
       "      <td>yes</td>\n",
       "      <td>ckd</td>\n",
       "    </tr>\n",
       "    <tr>\n",
       "      <th>4</th>\n",
       "      <td>51.0</td>\n",
       "      <td>80.0</td>\n",
       "      <td>1.010</td>\n",
       "      <td>2.0</td>\n",
       "      <td>0.0</td>\n",
       "      <td>normal</td>\n",
       "      <td>normal</td>\n",
       "      <td>notpresent</td>\n",
       "      <td>notpresent</td>\n",
       "      <td>106.0</td>\n",
       "      <td>...</td>\n",
       "      <td>35.0</td>\n",
       "      <td>7300.0</td>\n",
       "      <td>4.6</td>\n",
       "      <td>no</td>\n",
       "      <td>no</td>\n",
       "      <td>no</td>\n",
       "      <td>good</td>\n",
       "      <td>no</td>\n",
       "      <td>no</td>\n",
       "      <td>ckd</td>\n",
       "    </tr>\n",
       "  </tbody>\n",
       "</table>\n",
       "<p>5 rows × 25 columns</p>\n",
       "</div>"
      ],
      "text/plain": [
       "   'age'  'bp'   'sg'  'al'  'su'   'rbc'      'pc'       'pcc'        'ba'  \\\n",
       "0   48.0  80.0  1.020   1.0   0.0     NaN    normal  notpresent  notpresent   \n",
       "1    7.0  50.0  1.020   4.0   0.0     NaN    normal  notpresent  notpresent   \n",
       "2   62.0  80.0  1.010   2.0   3.0  normal    normal  notpresent  notpresent   \n",
       "3   48.0  70.0  1.005   4.0   0.0  normal  abnormal     present  notpresent   \n",
       "4   51.0  80.0  1.010   2.0   0.0  normal    normal  notpresent  notpresent   \n",
       "\n",
       "   'bgr'  ...  'pcv'  'wbcc'  'rbcc'  'htn'  'dm'  'cad'  'appet'  'pe' 'ane'  \\\n",
       "0  121.0  ...   44.0  7800.0     5.2    yes   yes     no     good    no    no   \n",
       "1    NaN  ...   38.0  6000.0     NaN     no    no     no     good    no    no   \n",
       "2  423.0  ...   31.0  7500.0     NaN     no   yes     no     poor    no   yes   \n",
       "3  117.0  ...   32.0  6700.0     3.9    yes    no     no     poor   yes   yes   \n",
       "4  106.0  ...   35.0  7300.0     4.6     no    no     no     good    no    no   \n",
       "\n",
       "  'class'  \n",
       "0     ckd  \n",
       "1     ckd  \n",
       "2     ckd  \n",
       "3     ckd  \n",
       "4     ckd  \n",
       "\n",
       "[5 rows x 25 columns]"
      ]
     },
     "execution_count": 3,
     "metadata": {},
     "output_type": "execute_result"
    }
   ],
   "source": [
    "df.head()\n",
    "#print(df.shape)"
   ]
  },
  {
   "cell_type": "code",
   "execution_count": 4,
   "id": "75180bfd",
   "metadata": {},
   "outputs": [
    {
     "data": {
      "text/plain": [
       "Index([''age'', ''bp'', ''sg'', ''al'', ''su'', ''rbc'', ''pc'', ''pcc'',\n",
       "       ''ba'', ''bgr'', ''bu'', ''sc'', ''sod'', ''pot'', ''hemo'', ''pcv'',\n",
       "       ''wbcc'', ''rbcc'', ''htn'', ''dm'', ''cad'', ''appet'', ''pe'',\n",
       "       ''ane'', ''class''],\n",
       "      dtype='object')"
      ]
     },
     "execution_count": 4,
     "metadata": {},
     "output_type": "execute_result"
    }
   ],
   "source": [
    "df.columns\n"
   ]
  },
  {
   "cell_type": "code",
   "execution_count": 5,
   "id": "b8ee55ba",
   "metadata": {
    "scrolled": false
   },
   "outputs": [
    {
     "name": "stdout",
     "output_type": "stream",
     "text": [
      "<class 'pandas.core.frame.DataFrame'>\n",
      "RangeIndex: 400 entries, 0 to 399\n",
      "Data columns (total 25 columns):\n",
      " #   Column   Non-Null Count  Dtype  \n",
      "---  ------   --------------  -----  \n",
      " 0   'age'    391 non-null    float64\n",
      " 1   'bp'     388 non-null    float64\n",
      " 2   'sg'     353 non-null    float64\n",
      " 3   'al'     354 non-null    float64\n",
      " 4   'su'     351 non-null    float64\n",
      " 5   'rbc'    248 non-null    object \n",
      " 6   'pc'     335 non-null    object \n",
      " 7   'pcc'    396 non-null    object \n",
      " 8   'ba'     396 non-null    object \n",
      " 9   'bgr'    356 non-null    float64\n",
      " 10  'bu'     381 non-null    float64\n",
      " 11  'sc'     383 non-null    float64\n",
      " 12  'sod'    313 non-null    float64\n",
      " 13  'pot'    312 non-null    float64\n",
      " 14  'hemo'   348 non-null    float64\n",
      " 15  'pcv'    329 non-null    float64\n",
      " 16  'wbcc'   294 non-null    float64\n",
      " 17  'rbcc'   269 non-null    float64\n",
      " 18  'htn'    398 non-null    object \n",
      " 19  'dm'     398 non-null    object \n",
      " 20  'cad'    398 non-null    object \n",
      " 21  'appet'  399 non-null    object \n",
      " 22  'pe'     399 non-null    object \n",
      " 23  'ane'    399 non-null    object \n",
      " 24  'class'  400 non-null    object \n",
      "dtypes: float64(14), object(11)\n",
      "memory usage: 78.2+ KB\n"
     ]
    }
   ],
   "source": [
    "df.info()"
   ]
  },
  {
   "cell_type": "code",
   "execution_count": 6,
   "id": "2e19ff6d",
   "metadata": {
    "scrolled": false
   },
   "outputs": [
    {
     "data": {
      "text/html": [
       "<div>\n",
       "<style scoped>\n",
       "    .dataframe tbody tr th:only-of-type {\n",
       "        vertical-align: middle;\n",
       "    }\n",
       "\n",
       "    .dataframe tbody tr th {\n",
       "        vertical-align: top;\n",
       "    }\n",
       "\n",
       "    .dataframe thead th {\n",
       "        text-align: right;\n",
       "    }\n",
       "</style>\n",
       "<table border=\"1\" class=\"dataframe\">\n",
       "  <thead>\n",
       "    <tr style=\"text-align: right;\">\n",
       "      <th></th>\n",
       "      <th>'age'</th>\n",
       "      <th>'bp'</th>\n",
       "      <th>'sg'</th>\n",
       "      <th>'al'</th>\n",
       "      <th>'su'</th>\n",
       "      <th>'bgr'</th>\n",
       "      <th>'bu'</th>\n",
       "      <th>'sc'</th>\n",
       "      <th>'sod'</th>\n",
       "      <th>'pot'</th>\n",
       "      <th>'hemo'</th>\n",
       "      <th>'pcv'</th>\n",
       "      <th>'wbcc'</th>\n",
       "      <th>'rbcc'</th>\n",
       "    </tr>\n",
       "  </thead>\n",
       "  <tbody>\n",
       "    <tr>\n",
       "      <th>count</th>\n",
       "      <td>391.000000</td>\n",
       "      <td>388.000000</td>\n",
       "      <td>353.000000</td>\n",
       "      <td>354.000000</td>\n",
       "      <td>351.000000</td>\n",
       "      <td>356.000000</td>\n",
       "      <td>381.000000</td>\n",
       "      <td>383.000000</td>\n",
       "      <td>313.000000</td>\n",
       "      <td>312.000000</td>\n",
       "      <td>348.000000</td>\n",
       "      <td>329.000000</td>\n",
       "      <td>294.000000</td>\n",
       "      <td>269.000000</td>\n",
       "    </tr>\n",
       "    <tr>\n",
       "      <th>mean</th>\n",
       "      <td>51.483376</td>\n",
       "      <td>76.469072</td>\n",
       "      <td>1.017408</td>\n",
       "      <td>1.016949</td>\n",
       "      <td>0.450142</td>\n",
       "      <td>148.036517</td>\n",
       "      <td>57.425722</td>\n",
       "      <td>3.072454</td>\n",
       "      <td>137.528754</td>\n",
       "      <td>4.627244</td>\n",
       "      <td>12.526437</td>\n",
       "      <td>38.884498</td>\n",
       "      <td>8406.122449</td>\n",
       "      <td>4.707435</td>\n",
       "    </tr>\n",
       "    <tr>\n",
       "      <th>std</th>\n",
       "      <td>17.169714</td>\n",
       "      <td>13.683637</td>\n",
       "      <td>0.005717</td>\n",
       "      <td>1.352679</td>\n",
       "      <td>1.099191</td>\n",
       "      <td>79.281714</td>\n",
       "      <td>50.503006</td>\n",
       "      <td>5.741126</td>\n",
       "      <td>10.408752</td>\n",
       "      <td>3.193904</td>\n",
       "      <td>2.912587</td>\n",
       "      <td>8.990105</td>\n",
       "      <td>2944.474190</td>\n",
       "      <td>1.025323</td>\n",
       "    </tr>\n",
       "    <tr>\n",
       "      <th>min</th>\n",
       "      <td>2.000000</td>\n",
       "      <td>50.000000</td>\n",
       "      <td>1.005000</td>\n",
       "      <td>0.000000</td>\n",
       "      <td>0.000000</td>\n",
       "      <td>22.000000</td>\n",
       "      <td>1.500000</td>\n",
       "      <td>0.400000</td>\n",
       "      <td>4.500000</td>\n",
       "      <td>2.500000</td>\n",
       "      <td>3.100000</td>\n",
       "      <td>9.000000</td>\n",
       "      <td>2200.000000</td>\n",
       "      <td>2.100000</td>\n",
       "    </tr>\n",
       "    <tr>\n",
       "      <th>25%</th>\n",
       "      <td>42.000000</td>\n",
       "      <td>70.000000</td>\n",
       "      <td>1.010000</td>\n",
       "      <td>0.000000</td>\n",
       "      <td>0.000000</td>\n",
       "      <td>99.000000</td>\n",
       "      <td>27.000000</td>\n",
       "      <td>0.900000</td>\n",
       "      <td>135.000000</td>\n",
       "      <td>3.800000</td>\n",
       "      <td>10.300000</td>\n",
       "      <td>32.000000</td>\n",
       "      <td>6500.000000</td>\n",
       "      <td>3.900000</td>\n",
       "    </tr>\n",
       "    <tr>\n",
       "      <th>50%</th>\n",
       "      <td>55.000000</td>\n",
       "      <td>80.000000</td>\n",
       "      <td>1.020000</td>\n",
       "      <td>0.000000</td>\n",
       "      <td>0.000000</td>\n",
       "      <td>121.000000</td>\n",
       "      <td>42.000000</td>\n",
       "      <td>1.300000</td>\n",
       "      <td>138.000000</td>\n",
       "      <td>4.400000</td>\n",
       "      <td>12.650000</td>\n",
       "      <td>40.000000</td>\n",
       "      <td>8000.000000</td>\n",
       "      <td>4.800000</td>\n",
       "    </tr>\n",
       "    <tr>\n",
       "      <th>75%</th>\n",
       "      <td>64.500000</td>\n",
       "      <td>80.000000</td>\n",
       "      <td>1.020000</td>\n",
       "      <td>2.000000</td>\n",
       "      <td>0.000000</td>\n",
       "      <td>163.000000</td>\n",
       "      <td>66.000000</td>\n",
       "      <td>2.800000</td>\n",
       "      <td>142.000000</td>\n",
       "      <td>4.900000</td>\n",
       "      <td>15.000000</td>\n",
       "      <td>45.000000</td>\n",
       "      <td>9800.000000</td>\n",
       "      <td>5.400000</td>\n",
       "    </tr>\n",
       "    <tr>\n",
       "      <th>max</th>\n",
       "      <td>90.000000</td>\n",
       "      <td>180.000000</td>\n",
       "      <td>1.025000</td>\n",
       "      <td>5.000000</td>\n",
       "      <td>5.000000</td>\n",
       "      <td>490.000000</td>\n",
       "      <td>391.000000</td>\n",
       "      <td>76.000000</td>\n",
       "      <td>163.000000</td>\n",
       "      <td>47.000000</td>\n",
       "      <td>17.800000</td>\n",
       "      <td>54.000000</td>\n",
       "      <td>26400.000000</td>\n",
       "      <td>8.000000</td>\n",
       "    </tr>\n",
       "  </tbody>\n",
       "</table>\n",
       "</div>"
      ],
      "text/plain": [
       "            'age'        'bp'        'sg'        'al'        'su'       'bgr'  \\\n",
       "count  391.000000  388.000000  353.000000  354.000000  351.000000  356.000000   \n",
       "mean    51.483376   76.469072    1.017408    1.016949    0.450142  148.036517   \n",
       "std     17.169714   13.683637    0.005717    1.352679    1.099191   79.281714   \n",
       "min      2.000000   50.000000    1.005000    0.000000    0.000000   22.000000   \n",
       "25%     42.000000   70.000000    1.010000    0.000000    0.000000   99.000000   \n",
       "50%     55.000000   80.000000    1.020000    0.000000    0.000000  121.000000   \n",
       "75%     64.500000   80.000000    1.020000    2.000000    0.000000  163.000000   \n",
       "max     90.000000  180.000000    1.025000    5.000000    5.000000  490.000000   \n",
       "\n",
       "             'bu'        'sc'       'sod'       'pot'      'hemo'       'pcv'  \\\n",
       "count  381.000000  383.000000  313.000000  312.000000  348.000000  329.000000   \n",
       "mean    57.425722    3.072454  137.528754    4.627244   12.526437   38.884498   \n",
       "std     50.503006    5.741126   10.408752    3.193904    2.912587    8.990105   \n",
       "min      1.500000    0.400000    4.500000    2.500000    3.100000    9.000000   \n",
       "25%     27.000000    0.900000  135.000000    3.800000   10.300000   32.000000   \n",
       "50%     42.000000    1.300000  138.000000    4.400000   12.650000   40.000000   \n",
       "75%     66.000000    2.800000  142.000000    4.900000   15.000000   45.000000   \n",
       "max    391.000000   76.000000  163.000000   47.000000   17.800000   54.000000   \n",
       "\n",
       "             'wbcc'      'rbcc'  \n",
       "count    294.000000  269.000000  \n",
       "mean    8406.122449    4.707435  \n",
       "std     2944.474190    1.025323  \n",
       "min     2200.000000    2.100000  \n",
       "25%     6500.000000    3.900000  \n",
       "50%     8000.000000    4.800000  \n",
       "75%     9800.000000    5.400000  \n",
       "max    26400.000000    8.000000  "
      ]
     },
     "execution_count": 6,
     "metadata": {},
     "output_type": "execute_result"
    }
   ],
   "source": [
    "df.describe()"
   ]
  },
  {
   "cell_type": "code",
   "execution_count": 7,
   "id": "c516076b",
   "metadata": {},
   "outputs": [
    {
     "data": {
      "text/plain": [
       "'age'       2.25\n",
       "'bp'        3.00\n",
       "'sg'       11.75\n",
       "'al'       11.50\n",
       "'su'       12.25\n",
       "'rbc'      38.00\n",
       "'pc'       16.25\n",
       "'pcc'       1.00\n",
       "'ba'        1.00\n",
       "'bgr'      11.00\n",
       "'bu'        4.75\n",
       "'sc'        4.25\n",
       "'sod'      21.75\n",
       "'pot'      22.00\n",
       "'hemo'     13.00\n",
       "'pcv'      17.75\n",
       "'wbcc'     26.50\n",
       "'rbcc'     32.75\n",
       "'htn'       0.50\n",
       "'dm'        0.50\n",
       "'cad'       0.50\n",
       "'appet'     0.25\n",
       "'pe'        0.25\n",
       "'ane'       0.25\n",
       "'class'     0.00\n",
       "dtype: float64"
      ]
     },
     "execution_count": 7,
     "metadata": {},
     "output_type": "execute_result"
    }
   ],
   "source": [
    "#percentage of Na values:\n",
    "(df.isnull().sum()/df.shape[0])*100"
   ]
  },
  {
   "cell_type": "code",
   "execution_count": 8,
   "id": "d890af97",
   "metadata": {},
   "outputs": [
    {
     "data": {
      "text/plain": [
       "0     158\n",
       "1      45\n",
       "3      37\n",
       "2      33\n",
       "5      33\n",
       "4      31\n",
       "7      20\n",
       "6      12\n",
       "9      12\n",
       "8       8\n",
       "11      7\n",
       "10      4\n",
       "dtype: int64"
      ]
     },
     "execution_count": 8,
     "metadata": {},
     "output_type": "execute_result"
    }
   ],
   "source": [
    "# Checking count of row with missing values for columns\n",
    "df.isnull().sum(1).value_counts()"
   ]
  },
  {
   "cell_type": "code",
   "execution_count": 9,
   "id": "95a8acb4",
   "metadata": {},
   "outputs": [
    {
     "data": {
      "text/html": [
       "<div>\n",
       "<style scoped>\n",
       "    .dataframe tbody tr th:only-of-type {\n",
       "        vertical-align: middle;\n",
       "    }\n",
       "\n",
       "    .dataframe tbody tr th {\n",
       "        vertical-align: top;\n",
       "    }\n",
       "\n",
       "    .dataframe thead th {\n",
       "        text-align: right;\n",
       "    }\n",
       "</style>\n",
       "<table border=\"1\" class=\"dataframe\">\n",
       "  <thead>\n",
       "    <tr style=\"text-align: right;\">\n",
       "      <th></th>\n",
       "      <th>'rbc'</th>\n",
       "      <th>'pc'</th>\n",
       "      <th>'pcc'</th>\n",
       "      <th>'ba'</th>\n",
       "      <th>'htn'</th>\n",
       "      <th>'dm'</th>\n",
       "      <th>'cad'</th>\n",
       "      <th>'appet'</th>\n",
       "      <th>'pe'</th>\n",
       "      <th>'ane'</th>\n",
       "      <th>'class'</th>\n",
       "    </tr>\n",
       "  </thead>\n",
       "  <tbody>\n",
       "    <tr>\n",
       "      <th>count</th>\n",
       "      <td>248</td>\n",
       "      <td>335</td>\n",
       "      <td>396</td>\n",
       "      <td>396</td>\n",
       "      <td>398</td>\n",
       "      <td>398</td>\n",
       "      <td>398</td>\n",
       "      <td>399</td>\n",
       "      <td>399</td>\n",
       "      <td>399</td>\n",
       "      <td>400</td>\n",
       "    </tr>\n",
       "    <tr>\n",
       "      <th>unique</th>\n",
       "      <td>2</td>\n",
       "      <td>2</td>\n",
       "      <td>2</td>\n",
       "      <td>2</td>\n",
       "      <td>2</td>\n",
       "      <td>2</td>\n",
       "      <td>2</td>\n",
       "      <td>2</td>\n",
       "      <td>2</td>\n",
       "      <td>2</td>\n",
       "      <td>2</td>\n",
       "    </tr>\n",
       "    <tr>\n",
       "      <th>top</th>\n",
       "      <td>normal</td>\n",
       "      <td>normal</td>\n",
       "      <td>notpresent</td>\n",
       "      <td>notpresent</td>\n",
       "      <td>no</td>\n",
       "      <td>no</td>\n",
       "      <td>no</td>\n",
       "      <td>good</td>\n",
       "      <td>no</td>\n",
       "      <td>no</td>\n",
       "      <td>ckd</td>\n",
       "    </tr>\n",
       "    <tr>\n",
       "      <th>freq</th>\n",
       "      <td>201</td>\n",
       "      <td>259</td>\n",
       "      <td>354</td>\n",
       "      <td>374</td>\n",
       "      <td>251</td>\n",
       "      <td>261</td>\n",
       "      <td>364</td>\n",
       "      <td>317</td>\n",
       "      <td>323</td>\n",
       "      <td>339</td>\n",
       "      <td>250</td>\n",
       "    </tr>\n",
       "  </tbody>\n",
       "</table>\n",
       "</div>"
      ],
      "text/plain": [
       "         'rbc'    'pc'       'pcc'        'ba' 'htn' 'dm' 'cad' 'appet' 'pe'  \\\n",
       "count      248     335         396         396   398  398   398     399  399   \n",
       "unique       2       2           2           2     2    2     2       2    2   \n",
       "top     normal  normal  notpresent  notpresent    no   no    no    good   no   \n",
       "freq       201     259         354         374   251  261   364     317  323   \n",
       "\n",
       "       'ane' 'class'  \n",
       "count    399     400  \n",
       "unique     2       2  \n",
       "top       no     ckd  \n",
       "freq     339     250  "
      ]
     },
     "execution_count": 9,
     "metadata": {},
     "output_type": "execute_result"
    }
   ],
   "source": [
    "# Object type describe\n",
    "df.describe(include = 'O')"
   ]
  },
  {
   "cell_type": "code",
   "execution_count": 10,
   "id": "7625a6c8",
   "metadata": {},
   "outputs": [
    {
     "name": "stdout",
     "output_type": "stream",
     "text": [
      "'age' : 76 values\n",
      "'bp' : 10 values\n",
      "'sg' : 5 values\n",
      "'al' : 6 values\n",
      "'su' : 6 values\n",
      "'rbc' : 2 values\n",
      "'pc' : 2 values\n",
      "'pcc' : 2 values\n",
      "'ba' : 2 values\n",
      "'bgr' : 146 values\n",
      "'bu' : 118 values\n",
      "'sc' : 84 values\n",
      "'sod' : 34 values\n",
      "'pot' : 40 values\n",
      "'hemo' : 115 values\n",
      "'pcv' : 42 values\n",
      "'wbcc' : 89 values\n",
      "'rbcc' : 45 values\n",
      "'htn' : 2 values\n",
      "'dm' : 2 values\n",
      "'cad' : 2 values\n",
      "'appet' : 2 values\n",
      "'pe' : 2 values\n",
      "'ane' : 2 values\n",
      "'class' : 2 values\n"
     ]
    }
   ],
   "source": [
    "for i in df.columns:\n",
    "    print(f'{i} : {df[i].nunique()} values')"
   ]
  },
  {
   "cell_type": "raw",
   "id": "8c702a2a",
   "metadata": {},
   "source": [
    "=> Viewing distinct unique values for each feature"
   ]
  },
  {
   "cell_type": "code",
   "execution_count": 11,
   "id": "a45cb314",
   "metadata": {},
   "outputs": [
    {
     "data": {
      "text/plain": [
       "[\"'age'\",\n",
       " \"'bp'\",\n",
       " \"'bgr'\",\n",
       " \"'bu'\",\n",
       " \"'sc'\",\n",
       " \"'sod'\",\n",
       " \"'pot'\",\n",
       " \"'hemo'\",\n",
       " \"'pcv'\",\n",
       " \"'wbcc'\",\n",
       " \"'rbcc'\"]"
      ]
     },
     "execution_count": 11,
     "metadata": {},
     "output_type": "execute_result"
    }
   ],
   "source": [
    "#Extraction of categorical and numerical features into distinct data frames\n",
    "numerical_features = []\n",
    "categorical_features = []\n",
    "for i in df.columns:\n",
    "    if df[i].nunique()>6:\n",
    "        numerical_features.append(i)\n",
    "    else:\n",
    "        categorical_features.append(i)\n",
    "numerical_features"
   ]
  },
  {
   "cell_type": "raw",
   "id": "5a133808",
   "metadata": {},
   "source": [
    "There are 14 categorical features"
   ]
  },
  {
   "cell_type": "code",
   "execution_count": 12,
   "id": "7e405b3b",
   "metadata": {
    "scrolled": true
   },
   "outputs": [
    {
     "name": "stdout",
     "output_type": "stream",
     "text": [
      "Count of nan in DataSet  1012\n",
      "Count of nan in column  'age'  is :  9\n",
      "Count of nan in column  'bp'  is :  12\n",
      "Count of nan in column  'sg'  is :  47\n",
      "Count of nan in column  'al'  is :  46\n",
      "Count of nan in column  'su'  is :  49\n",
      "Count of nan in column  'rbc'  is :  152\n",
      "Count of nan in column  'pc'  is :  65\n",
      "Count of nan in column  'pcc'  is :  4\n",
      "Count of nan in column  'ba'  is :  4\n",
      "Count of nan in column  'bgr'  is :  44\n",
      "Count of nan in column  'bu'  is :  19\n",
      "Count of nan in column  'sc'  is :  17\n",
      "Count of nan in column  'sod'  is :  87\n",
      "Count of nan in column  'pot'  is :  88\n",
      "Count of nan in column  'hemo'  is :  52\n",
      "Count of nan in column  'pcv'  is :  71\n",
      "Count of nan in column  'wbcc'  is :  106\n",
      "Count of nan in column  'rbcc'  is :  131\n",
      "Count of nan in column  'htn'  is :  2\n",
      "Count of nan in column  'dm'  is :  2\n",
      "Count of nan in column  'cad'  is :  2\n",
      "Count of nan in column  'appet'  is :  1\n",
      "Count of nan in column  'pe'  is :  1\n",
      "Count of nan in column  'ane'  is :  1\n",
      "Count of nan in column  'class'  is :  0\n"
     ]
    }
   ],
   "source": [
    "#looking for missing values\n",
    "print('Count of nan in DataSet ', df.isnull().sum().sum())\n",
    "names=df.columns\n",
    "for column_name in names:\n",
    "    column = df[column_name]\n",
    "    # Get the count of Nan in column\n",
    "    count = column.isnull().sum()\n",
    "    print('Count of nan in column ', column_name, ' is : ', count)"
   ]
  },
  {
   "cell_type": "code",
   "execution_count": 13,
   "id": "07ecdef3",
   "metadata": {},
   "outputs": [
    {
     "data": {
      "text/plain": [
       "'age'      41\n",
       "'bp'       42\n",
       "'sg'        0\n",
       "'al'        0\n",
       "'su'        0\n",
       "'rbc'       2\n",
       "'pc'        2\n",
       "'pcc'      44\n",
       "'ba'       44\n",
       "'bgr'      40\n",
       "'bu'       44\n",
       "'sc'       44\n",
       "'sod'      35\n",
       "'pot'      34\n",
       "'hemo'     33\n",
       "'pcv'      26\n",
       "'wbcc'     18\n",
       "'rbcc'     16\n",
       "'htn'      44\n",
       "'dm'       44\n",
       "'cad'      44\n",
       "'appet'    44\n",
       "'pe'       44\n",
       "'ane'      44\n",
       "'class'    44\n",
       "dtype: int64"
      ]
     },
     "execution_count": 13,
     "metadata": {},
     "output_type": "execute_result"
    }
   ],
   "source": [
    "#Checking rows that have both al and sg missing\n",
    "df[(df[\"'al'\"].isnull()) & (df[\"'sg'\"].isnull())].count()"
   ]
  },
  {
   "cell_type": "code",
   "execution_count": 14,
   "id": "51a7dad0",
   "metadata": {},
   "outputs": [
    {
     "data": {
      "image/png": "[encoded data removed]",
      "text/plain": [
       "<Figure size 432x288 with 1 Axes>"
      ]
     },
     "metadata": {
      "needs_background": "light"
     },
     "output_type": "display_data"
    },
    {
     "name": "stdout",
     "output_type": "stream",
     "text": [
      "Percent of chronic kidney disease sample:  62.5 %\n",
      "Percent of not a chronic kidney disease sample:  37.5 %\n",
      "Our dataset is imbalanced\n"
     ]
    }
   ],
   "source": [
    "sns.countplot(x=\"'class'\",data=df)\n",
    "plt.xlabel(\"class\")\n",
    "plt.ylabel(\"Count\")\n",
    "plt.title(\"target Class\")\n",
    "plt.show()\n",
    "print('Percent of chronic kidney disease sample: ',round(len(df[df[\"'class'\"]=='ckd'])/len(df[\"'class'\"])*100,2),\"%\")\n",
    "print('Percent of not a chronic kidney disease sample: ',round(len(df[df[\"'class'\"]=='notckd'])/len(df[\"'class'\"])*100,2),\"%\")\n",
    "print(\"Our dataset is imbalanced\")"
   ]
  },
  {
   "cell_type": "code",
   "execution_count": 15,
   "id": "87563c17",
   "metadata": {},
   "outputs": [
    {
     "data": {
      "text/plain": [
       "Text(0.5, 1.0, 'Hemoglobin')"
      ]
     },
     "execution_count": 15,
     "metadata": {},
     "output_type": "execute_result"
    },
    {
     "data": {
      "image/png": "[encoded data removed]",
      "text/plain": [
       "<Figure size 720x288 with 3 Axes>"
      ]
     },
     "metadata": {
      "needs_background": "light"
     },
     "output_type": "display_data"
    }
   ],
   "source": [
    "# Understanding Potassimum(pot), Sodium(sod), Hemoglobin(hemo) data structure more closely\n",
    "fig, ax = plt.subplots(1,3, figsize = (10,4))\n",
    "df[\"'sod'\"].hist(ax = ax[0])\n",
    "ax[0].set_title('Sodium')\n",
    "df[\"'pot'\"].hist(ax = ax[1])\n",
    "ax[1].set_title('Potassium Distribution')\n",
    "df[\"'hemo'\"].hist(ax = ax[2])\n",
    "ax[2].set_title('Hemoglobin')"
   ]
  },
  {
   "cell_type": "raw",
   "id": "f1552780",
   "metadata": {},
   "source": [
    "there are some observations that lies outside the overall pattern of the sodium(0) distribution : outliers\n",
    "there are some observations that lies outside the overall pattern of the potassium(4) distribution : outliers"
   ]
  },
  {
   "cell_type": "code",
   "execution_count": 16,
   "id": "5b507a17",
   "metadata": {},
   "outputs": [
    {
     "data": {
      "image/png": "[encoded data removed]",
      "text/plain": [
       "<Figure size 720x432 with 1 Axes>"
      ]
     },
     "metadata": {
      "needs_background": "light"
     },
     "output_type": "display_data"
    }
   ],
   "source": [
    "#Checking abnormality of sodium and instances of ckd\n",
    "ckd = list(df[\"'class'\"].unique())\n",
    "plt.figure(figsize = (10,6))\n",
    "for c in ckd:\n",
    "    sns.distplot(df[\"'sod'\"][df[\"'class'\"] == c], label = c)\n",
    "    plt.legend()"
   ]
  },
  {
   "cell_type": "raw",
   "id": "734db442",
   "metadata": {},
   "source": [
    "the ckd and notckd graphs are skewed to th left and show some abnormalities"
   ]
  },
  {
   "cell_type": "code",
   "execution_count": 17,
   "id": "a7cecf9e",
   "metadata": {
    "scrolled": true
   },
   "outputs": [
    {
     "data": {
      "text/plain": [
       "<seaborn.axisgrid.FacetGrid at 0x1dad2399490>"
      ]
     },
     "execution_count": 17,
     "metadata": {},
     "output_type": "execute_result"
    },
    {
     "data": {
      "image/png": "[encoded data removed]",
      "text/plain": [
       "<Figure size 360x360 with 1 Axes>"
      ]
     },
     "metadata": {
      "needs_background": "light"
     },
     "output_type": "display_data"
    }
   ],
   "source": [
    "# Count plot of rbc\n",
    "sns.catplot(x = \"'rbc'\", estimator = None, data = df[categorical_features], kind = 'count')"
   ]
  },
  {
   "cell_type": "code",
   "execution_count": 18,
   "id": "d9228413",
   "metadata": {},
   "outputs": [
    {
     "data": {
      "text/plain": [
       "Text(0.5, 1.0, 'Coronary Artery Disease')"
      ]
     },
     "execution_count": 18,
     "metadata": {},
     "output_type": "execute_result"
    },
    {
     "data": {
      "image/png": "[encoded data removed]",
      "text/plain": [
       "<Figure size 1080x288 with 3 Axes>"
      ]
     },
     "metadata": {
      "needs_background": "light"
     },
     "output_type": "display_data"
    }
   ],
   "source": [
    "# Distribution of HyperTension and DM and CAD\n",
    "plt.figure(figsize = (15,4))\n",
    "plt.subplot(1,3,1)\n",
    "sns.countplot(x = \"'htn'\", data = df[categorical_features])\n",
    "plt.title('HyperTension')\n",
    "plt.subplot(1,3,2)\n",
    "sns.countplot(x = \"'dm'\", data = df[categorical_features])\n",
    "plt.title('Diabetes Mellitus')\n",
    "plt.subplot(1,3,3)\n",
    "sns.countplot(x = \"'cad'\", data = df[categorical_features])\n",
    "plt.title('Coronary Artery Disease')"
   ]
  },
  {
   "cell_type": "code",
   "execution_count": 19,
   "id": "c943e73e",
   "metadata": {},
   "outputs": [
    {
     "data": {
      "text/plain": [
       "<AxesSubplot: xlabel=\"'htn'\", ylabel=\"'age'\">"
      ]
     },
     "execution_count": 19,
     "metadata": {},
     "output_type": "execute_result"
    },
    {
     "data": {
      "image/png": "[encoded data removed]",
      "text/plain": [
       "<Figure size 432x288 with 1 Axes>"
      ]
     },
     "metadata": {
      "needs_background": "light"
     },
     "output_type": "display_data"
    }
   ],
   "source": [
    "#Relation between hypertension and age\n",
    "sns.swarmplot(x = \"'htn'\", y = \"'age'\", data = df)"
   ]
  },
  {
   "cell_type": "raw",
   "id": "674804f0",
   "metadata": {},
   "source": [
    "this figure explain the relationship between age and hypertension \n",
    "we can interpret it by saying if the age is above 25-30 there's a high chance of hypertension"
   ]
  },
  {
   "cell_type": "code",
   "execution_count": 20,
   "id": "1c4eea27",
   "metadata": {},
   "outputs": [
    {
     "data": {
      "text/plain": [
       "Text(0.5, 1.0, 'Anemia')"
      ]
     },
     "execution_count": 20,
     "metadata": {},
     "output_type": "execute_result"
    },
    {
     "data": {
      "image/png": "[encoded data removed]",
      "text/plain": [
       "<Figure size 1080x288 with 3 Axes>"
      ]
     },
     "metadata": {
      "needs_background": "light"
     },
     "output_type": "display_data"
    }
   ],
   "source": [
    "plt.figure(figsize = (15,4))\n",
    "plt.subplot(1,3,1)\n",
    "sns.countplot(x = \"'appet'\", data = df[categorical_features])\n",
    "plt.title('Appetite')\n",
    "plt.subplot(1,3,2)\n",
    "sns.countplot(x = \"'pe'\", data = df[categorical_features])\n",
    "plt.title('Pedal Edema')\n",
    "plt.subplot(1,3,3)\n",
    "sns.countplot(x = \"'ane'\", data = df[categorical_features])\n",
    "plt.title('Anemia')"
   ]
  },
  {
   "cell_type": "markdown",
   "id": "ee81254f",
   "metadata": {},
   "source": [
    "=>Most of the people have a good appetite.\n",
    "Pedel Edema : indicates swolleness of our feet. This can be a direct indicator of kidney issues.\n",
    "Anemia: Indicates presence or absence of red blood cells/hemoglobin. Most of the people have 'no' anemia "
   ]
  },
  {
   "cell_type": "code",
   "execution_count": 21,
   "id": "3e9b1dfc",
   "metadata": {},
   "outputs": [
    {
     "data": {
      "text/plain": [
       "Text(0.5, 1.0, 'Anemia and Hemoglobine')"
      ]
     },
     "execution_count": 21,
     "metadata": {},
     "output_type": "execute_result"
    },
    {
     "data": {
      "image/png": "[encoded data removed]",
      "text/plain": [
       "<Figure size 720x288 with 1 Axes>"
      ]
     },
     "metadata": {
      "needs_background": "light"
     },
     "output_type": "display_data"
    }
   ],
   "source": [
    "plt.figure(figsize = (10,4))\n",
    "plt.subplot(1,2,1)\n",
    "sns.swarmplot(x = \"'ane'\", y = \"'hemo'\", data=df)\n",
    "plt.title('Anemia and Hemoglobine')"
   ]
  },
  {
   "cell_type": "raw",
   "id": "e52c11d7",
   "metadata": {},
   "source": [
    "from this figure we could understand that starting from a certain value of hemoglobine there's a lower chance of anemia \n",
    "As an example if hemoglobine values are in [4-10] there's a higher chance of anemia"
   ]
  },
  {
   "cell_type": "code",
   "execution_count": 22,
   "id": "2ceda3b9",
   "metadata": {
    "scrolled": true
   },
   "outputs": [
    {
     "data": {
      "text/plain": [
       "Text(0.5, 1.0, 'Pus Cells Clump')"
      ]
     },
     "execution_count": 22,
     "metadata": {},
     "output_type": "execute_result"
    },
    {
     "data": {
      "image/png": "[encoded data removed]",
      "text/plain": [
       "<Figure size 720x360 with 2 Axes>"
      ]
     },
     "metadata": {
      "needs_background": "light"
     },
     "output_type": "display_data"
    }
   ],
   "source": [
    "#Distirbution of Pus cell and Pus cells clump\n",
    "plt.figure(figsize = (10,5))\n",
    "plt.subplot(1,2,1)\n",
    "sns.countplot(x = \"'pc'\", data = df[categorical_features])\n",
    "plt.title('Pus Cell')\n",
    "plt.subplot(1,2,2)\n",
    "sns.countplot(x = \"'pcc'\", data = df[categorical_features])\n",
    "plt.title('Pus Cells Clump')"
   ]
  },
  {
   "cell_type": "raw",
   "id": "400f337a",
   "metadata": {},
   "source": [
    "the number of abnormal pus cell values is lower than the number of normal one .This indicates a very imbalanced sample which is not very strong in terms of prediction\n",
    "same for plus cell clumps. Pus cell clumps are less present "
   ]
  },
  {
   "cell_type": "code",
   "execution_count": 23,
   "id": "ebe08484",
   "metadata": {},
   "outputs": [
    {
     "data": {
      "text/plain": [
       "<matplotlib.lines.Line2D at 0x1dad271ea00>"
      ]
     },
     "execution_count": 23,
     "metadata": {},
     "output_type": "execute_result"
    },
    {
     "data": {
      "image/png": "[encoded data removed]",
      "text/plain": [
       "<Figure size 432x288 with 1 Axes>"
      ]
     },
     "metadata": {
      "needs_background": "light"
     },
     "output_type": "display_data"
    }
   ],
   "source": [
    "# Proportion of Bacteria present or not\n",
    "df[categorical_features][\"'ba'\"].value_counts(normalize = True).plot(kind = 'bar', colormap = 'cool')\n",
    "plt.axhline(y = 0.93, color = 'r', label = '0.93')"
   ]
  },
  {
   "cell_type": "markdown",
   "id": "2545584d",
   "metadata": {},
   "source": [
    "=>About 93 percent values belong to only one variable present. This indicates a very imbalanced sample which is not very strong in terms of predictive power"
   ]
  },
  {
   "cell_type": "code",
   "execution_count": 24,
   "id": "0a887977",
   "metadata": {},
   "outputs": [
    {
     "data": {
      "text/plain": [
       "Text(0.5, 1.0, 'Coronary Artery Disease')"
      ]
     },
     "execution_count": 24,
     "metadata": {},
     "output_type": "execute_result"
    },
    {
     "data": {
      "image/png": "[encoded data removed]",
      "text/plain": [
       "<Figure size 1080x288 with 3 Axes>"
      ]
     },
     "metadata": {
      "needs_background": "light"
     },
     "output_type": "display_data"
    }
   ],
   "source": [
    "# Distribution of HyperTension and DM and CAD\n",
    "plt.figure(figsize = (15,4))\n",
    "plt.subplot(1,3,1)\n",
    "sns.countplot(x = \"'htn'\", data = df[categorical_features])\n",
    "plt.title('HyperTension')\n",
    "plt.subplot(1,3,2)\n",
    "sns.countplot(x = \"'dm'\", data = df[categorical_features])\n",
    "plt.title('Diabetes Mellitus')\n",
    "plt.subplot(1,3,3)\n",
    "sns.countplot(x = \"'cad'\", data = df[categorical_features])\n",
    "plt.title('Coronary Artery Disease')"
   ]
  },
  {
   "cell_type": "raw",
   "id": "130e2084",
   "metadata": {},
   "source": [
    "for the coronary Artery disease only approximately 40 samples have cad. this means that this is an imbalanced sample and might not help in predictions"
   ]
  },
  {
   "cell_type": "code",
   "execution_count": 25,
   "id": "ba5eaaa9",
   "metadata": {},
   "outputs": [
    {
     "data": {
      "text/plain": [
       "<seaborn.axisgrid.FacetGrid at 0x1dad238edc0>"
      ]
     },
     "execution_count": 25,
     "metadata": {},
     "output_type": "execute_result"
    },
    {
     "data": {
      "image/png": "[encoded data removed]",
      "text/plain": [
       "<Figure size 485.25x216 with 1 Axes>"
      ]
     },
     "metadata": {
      "needs_background": "light"
     },
     "output_type": "display_data"
    }
   ],
   "source": [
    "# Relation of dm with blood glucose variable\n",
    "g = sns.FacetGrid(df, hue = \"'dm'\", aspect = 2)\n",
    "g.map(sns.kdeplot, \"'bgr'\")\n",
    "g.add_legend()"
   ]
  },
  {
   "cell_type": "markdown",
   "id": "354a3321",
   "metadata": {},
   "source": [
    "We can see a separation above 170 mark. Most of the cases with dm as yes belong above 170. The cases of no dm are concentrated between 50 -170 , which can be taken as normal bgr range"
   ]
  },
  {
   "cell_type": "code",
   "execution_count": 26,
   "id": "4bbfba60",
   "metadata": {},
   "outputs": [
    {
     "data": {
      "text/plain": [
       "<AxesSubplot: xlabel=\"'su'\", ylabel='count'>"
      ]
     },
     "execution_count": 26,
     "metadata": {},
     "output_type": "execute_result"
    },
    {
     "data": {
      "image/png": "[encoded data removed]",
      "text/plain": [
       "<Figure size 432x288 with 1 Axes>"
      ]
     },
     "metadata": {
      "needs_background": "light"
     },
     "output_type": "display_data"
    }
   ],
   "source": [
    "# Distribution of dm with su(sugar)\n",
    "\n",
    "sns.countplot(x = \"'su'\", hue = \"'dm'\", data = df)"
   ]
  },
  {
   "cell_type": "markdown",
   "id": "63c703f1",
   "metadata": {},
   "source": [
    "We can see that most of the no status of diabetes concur with 0 as sugar level. So we can conclude that above 0 , there are more chances of dm."
   ]
  },
  {
   "cell_type": "code",
   "execution_count": 27,
   "id": "29781581",
   "metadata": {
    "scrolled": true
   },
   "outputs": [],
   "source": [
    "#Imputation : Replace Missing Values:  ****** float by mean and Object by mode********\n",
    "for column_name in df.columns:\n",
    "    if df[column_name].dtype == 'float64' :\n",
    "        df[column_name].fillna(df[column_name].mean(), inplace = True)\n",
    "    else :\n",
    "        df[column_name].fillna(df[column_name].mode()[0], inplace = True)"
   ]
  },
  {
   "cell_type": "code",
   "execution_count": 28,
   "id": "4e097c40",
   "metadata": {},
   "outputs": [
    {
     "name": "stdout",
     "output_type": "stream",
     "text": [
      "<class 'pandas.core.frame.DataFrame'>\n",
      "RangeIndex: 400 entries, 0 to 399\n",
      "Data columns (total 25 columns):\n",
      " #   Column   Non-Null Count  Dtype  \n",
      "---  ------   --------------  -----  \n",
      " 0   'age'    400 non-null    float64\n",
      " 1   'bp'     400 non-null    float64\n",
      " 2   'sg'     400 non-null    float64\n",
      " 3   'al'     400 non-null    float64\n",
      " 4   'su'     400 non-null    float64\n",
      " 5   'rbc'    400 non-null    object \n",
      " 6   'pc'     400 non-null    object \n",
      " 7   'pcc'    400 non-null    object \n",
      " 8   'ba'     400 non-null    object \n",
      " 9   'bgr'    400 non-null    float64\n",
      " 10  'bu'     400 non-null    float64\n",
      " 11  'sc'     400 non-null    float64\n",
      " 12  'sod'    400 non-null    float64\n",
      " 13  'pot'    400 non-null    float64\n",
      " 14  'hemo'   400 non-null    float64\n",
      " 15  'pcv'    400 non-null    float64\n",
      " 16  'wbcc'   400 non-null    float64\n",
      " 17  'rbcc'   400 non-null    float64\n",
      " 18  'htn'    400 non-null    object \n",
      " 19  'dm'     400 non-null    object \n",
      " 20  'cad'    400 non-null    object \n",
      " 21  'appet'  400 non-null    object \n",
      " 22  'pe'     400 non-null    object \n",
      " 23  'ane'    400 non-null    object \n",
      " 24  'class'  400 non-null    object \n",
      "dtypes: float64(14), object(11)\n",
      "memory usage: 78.2+ KB\n"
     ]
    }
   ],
   "source": [
    "df.info()"
   ]
  },
  {
   "cell_type": "code",
   "execution_count": 29,
   "id": "7484c2a7",
   "metadata": {},
   "outputs": [
    {
     "name": "stdout",
     "output_type": "stream",
     "text": [
      "<class 'pandas.core.frame.DataFrame'>\n",
      "RangeIndex: 400 entries, 0 to 399\n",
      "Data columns (total 25 columns):\n",
      " #   Column   Non-Null Count  Dtype  \n",
      "---  ------   --------------  -----  \n",
      " 0   'age'    400 non-null    float64\n",
      " 1   'bp'     400 non-null    float64\n",
      " 2   'sg'     400 non-null    float64\n",
      " 3   'al'     400 non-null    float64\n",
      " 4   'su'     400 non-null    float64\n",
      " 5   'rbc'    400 non-null    float64\n",
      " 6   'pc'     400 non-null    float64\n",
      " 7   'pcc'    400 non-null    float64\n",
      " 8   'ba'     400 non-null    float64\n",
      " 9   'bgr'    400 non-null    float64\n",
      " 10  'bu'     400 non-null    float64\n",
      " 11  'sc'     400 non-null    float64\n",
      " 12  'sod'    400 non-null    float64\n",
      " 13  'pot'    400 non-null    float64\n",
      " 14  'hemo'   400 non-null    float64\n",
      " 15  'pcv'    400 non-null    float64\n",
      " 16  'wbcc'   400 non-null    float64\n",
      " 17  'rbcc'   400 non-null    float64\n",
      " 18  'htn'    400 non-null    float64\n",
      " 19  'dm'     400 non-null    float64\n",
      " 20  'cad'    400 non-null    float64\n",
      " 21  'appet'  400 non-null    float64\n",
      " 22  'pe'     400 non-null    float64\n",
      " 23  'ane'    400 non-null    float64\n",
      " 24  'class'  400 non-null    float64\n",
      "dtypes: float64(25)\n",
      "memory usage: 78.2 KB\n"
     ]
    }
   ],
   "source": [
    "#data Transformation : Replace categorical data with Ordinal Encoder\n",
    "from sklearn.preprocessing import OrdinalEncoder\n",
    "categorical_feature_mask = df.dtypes==object\n",
    "categorical_cols = df.columns[categorical_feature_mask].tolist()\n",
    "categorical_cols\n",
    "encoder = OrdinalEncoder()\n",
    "for column_name in categorical_cols:\n",
    "    df[column_name] = encoder.fit_transform(df[column_name].values.reshape(-1, 1))\n",
    "df.info()"
   ]
  },
  {
   "cell_type": "markdown",
   "id": "89ddb776",
   "metadata": {},
   "source": [
    "<div style='font-size:100%;'>\n",
    "    <a id='clean'></a>\n",
    "    <h1 style='color: black; font-weight: bold; font-family: Cascadia code;'>\n",
    "        <center> Visualizing and cleaning Outliers 📊</center>\n",
    "    </h1>\n",
    "</div>"
   ]
  },
  {
   "cell_type": "code",
   "execution_count": null,
   "id": "85a7f857",
   "metadata": {},
   "outputs": [],
   "source": [
    "#Visualizing outliers in numerical features\n",
    "for col in df.columns:\n",
    "    fig, ax = plt.subplots(1,3, figsize = (13,5))\n",
    "    df[col].plot(kind = 'kde', ax = ax[0])\n",
    "    ax[0].set_ylim(bottom = 0)\n",
    "    sns.boxplot(col, data = df, ax = ax[1], orient = 'v')\n",
    "    sns.swarmplot(col, data = df, ax = ax[2], orient = 'v')"
   ]
  },
  {
   "cell_type": "code",
   "execution_count": null,
   "id": "8ffbceaf",
   "metadata": {},
   "outputs": [],
   "source": [
    "ax = sns.boxplot(data = df[\"'wbcc'\"], orient = \"h\", palette = \"Set2\")\n",
    "#add labels\n",
    "ax.set_xlabel(\"Value\", fontsize = 20, labelpad = 20)\n",
    "ax.set_ylabel(\"Attributes\", fontsize = 20, labelpad = 20)\n",
    "ax.set_title(\"Boxplot of Outliers\", fontsize = 20,pad = 20)\n",
    "#edit ticks\n",
    "ax.tick_params(which = \"both\", labelsize = 15)\n",
    "print(\" we recognize that wbcc have outliers\")"
   ]
  },
  {
   "cell_type": "code",
   "execution_count": null,
   "id": "6b331f82",
   "metadata": {},
   "outputs": [],
   "source": [
    "ax = sns.boxplot(data = df[\"'sg'\"], orient = \"h\", palette = \"Set2\")\n",
    "#add labels\n",
    "ax.set_xlabel(\"Value\", fontsize = 20, labelpad = 20)\n",
    "ax.set_ylabel(\"Attributes\", fontsize = 20, labelpad = 20)\n",
    "ax.set_title(\"Boxplot of Outliers\", fontsize = 20,pad = 20)\n",
    "#edit ticks\n",
    "ax.tick_params(which = \"both\", labelsize = 15)\n",
    "print(' in this case sg seem to have an insignificant number of outliers ')"
   ]
  },
  {
   "cell_type": "code",
   "execution_count": null,
   "id": "d7c19b15",
   "metadata": {},
   "outputs": [],
   "source": [
    "column=[\"'bp'\",\"'age'\",\"'sod'\"]\n",
    "ax = sns.boxplot(data = df[column], orient = \"h\", palette = \"Set2\")\n",
    "#add labels\n",
    "ax.set_xlabel(\"Value\", fontsize = 20, labelpad = 20)\n",
    "ax.set_ylabel(\"Attributes\", fontsize = 20, labelpad = 20)\n",
    "ax.set_title(\"Boxplot of Outliers\", fontsize = 20,pad = 20)\n",
    "#edit ticks\n",
    "ax.tick_params(which = \"both\", labelsize = 15)"
   ]
  },
  {
   "cell_type": "code",
   "execution_count": null,
   "id": "0b52cb41",
   "metadata": {},
   "outputs": [],
   "source": [
    "column=[\"'bgr'\", \"'bu'\"]\n",
    "\n",
    "ax = sns.boxplot(data = df[column], orient = \"h\", palette = \"Set2\")\n",
    "#add labels\n",
    "ax.set_xlabel(\"Value\", fontsize = 20, labelpad = 20)\n",
    "ax.set_ylabel(\"Attributes\", fontsize = 20, labelpad = 20)\n",
    "ax.set_title(\"Boxplot of Outliers\", fontsize = 20,pad = 20)\n",
    "#edit ticks\n",
    "ax.tick_params(which = \"both\", labelsize = 15)"
   ]
  },
  {
   "cell_type": "code",
   "execution_count": null,
   "id": "5a54e2c3",
   "metadata": {},
   "outputs": [],
   "source": [
    "column=[\"'sc'\",  \"'pot'\", \"'hemo'\", \"'pcv'\" , \"'sg'\"]\n",
    "ax = sns.boxplot(data = df[column], orient = \"h\", palette = \"Set2\")\n",
    "#add labels\n",
    "ax.set_xlabel(\"Value\", fontsize = 20, labelpad = 20)\n",
    "ax.set_ylabel(\"Attributes\", fontsize = 20, labelpad = 20)\n",
    "ax.set_title(\"Boxplot of Outliers\", fontsize = 20,pad = 20)\n",
    "#edit ticks\n",
    "ax.tick_params(which = \"both\", labelsize = 15)"
   ]
  },
  {
   "cell_type": "code",
   "execution_count": null,
   "id": "596bfd3b",
   "metadata": {},
   "outputs": [],
   "source": [
    "column=[\"'rbcc'\", \"'htn'\", \"'dm'\", \"'cad'\",\"'appet'\", \"'pe'\",\n",
    "       \"'ane'\", \"'class'\" ]\n",
    "ax = sns.boxplot(data = df[column], orient = \"h\", palette = \"Set2\")\n",
    "#add labels\n",
    "ax.set_xlabel(\"Value\", fontsize = 20, labelpad = 20)\n",
    "ax.set_ylabel(\"Attributes\", fontsize = 20, labelpad = 20)\n",
    "ax.set_title(\"Boxplot of Outliers\", fontsize = 20,pad = 20)\n",
    "#edit ticks\n",
    "ax.tick_params(which = \"both\", labelsize = 15)"
   ]
  },
  {
   "cell_type": "code",
   "execution_count": null,
   "id": "3e7847c7",
   "metadata": {
    "scrolled": false
   },
   "outputs": [],
   "source": [
    "df.info()"
   ]
  },
  {
   "cell_type": "markdown",
   "id": "2ee2a07f",
   "metadata": {},
   "source": [
    "<div style='font-size:85%;'>\n",
    "    <a id='discover'></a>\n",
    "    <h1 style='color: black; font-weight: bold; font-family: Cascadia code;'>\n",
    "        <center> Modeling without feature selection and without cleaning outliers</center>\n",
    "    </h1>\n",
    "</div> "
   ]
  },
  {
   "cell_type": "code",
   "execution_count": 30,
   "id": "ba06994c",
   "metadata": {},
   "outputs": [
    {
     "name": "stdout",
     "output_type": "stream",
     "text": [
      "(300, 24)\n",
      "(100, 24)\n"
     ]
    }
   ],
   "source": [
    "# splitting the dataset into train and test set \n",
    "from sklearn.model_selection import train_test_split\n",
    "df1 = df.copy()\n",
    "ind_col = [col for col in df1.columns if col != \"'class'\"]\n",
    "dep_col = \"'class'\"\n",
    "X = df[ind_col]\n",
    "y = df[dep_col]\n",
    "X_train, X_test, y_train, y_test = train_test_split(X, y, test_size = 0.25, random_state = 0)\n",
    "print(X_train.shape)\n",
    "print(X_test.shape)"
   ]
  },
  {
   "cell_type": "code",
   "execution_count": 31,
   "id": "4c6017d4",
   "metadata": {},
   "outputs": [],
   "source": [
    "#Importing libraries\n",
    "\n",
    "from sklearn import svm, tree, naive_bayes, ensemble , neighbors\n",
    "\n",
    "#Common Model Helpers\n",
    "from sklearn import feature_selection\n",
    "from sklearn import model_selection\n",
    "from sklearn import metrics\n",
    "\n",
    "from sklearn.metrics import accuracy_score\n",
    "from sklearn.model_selection import train_test_split\n",
    "from sklearn.model_selection import cross_val_score\n",
    "from sklearn.preprocessing import MinMaxScaler\n",
    "from sklearn.feature_selection import VarianceThreshold\n",
    "\n",
    "#Import SelectKBest for Feature Selection\n",
    "from sklearn.feature_selection import SelectKBest\n",
    "from sklearn.feature_selection import mutual_info_classif\n",
    "\n",
    "from sklearn.feature_selection import RFE\n",
    "from sklearn.feature_selection import RFECV"
   ]
  },
  {
   "cell_type": "code",
   "execution_count": 32,
   "id": "4fc44772",
   "metadata": {},
   "outputs": [],
   "source": [
    "# List of different Machine learning Algorithm we will use \n",
    "MLA = [\n",
    "    ensemble.RandomForestClassifier(random_state=0),\n",
    "    #Navies Bayes\n",
    "    naive_bayes.BernoulliNB(),\n",
    "    naive_bayes.GaussianNB(),\n",
    "    #Trees    \n",
    "    tree.DecisionTreeClassifier(random_state=0),\n",
    "    tree.ExtraTreeClassifier(random_state=0),\n",
    "    #Nearest Neighbor\n",
    "    neighbors.KNeighborsClassifier(),\n",
    "    #SVM\n",
    "    svm.LinearSVC(random_state=0), \n",
    "    svm.NuSVC(probability=True),\n",
    "    svm.SVC(probability=True) \n",
    "    ]\n",
    "MLA1 = [\n",
    "    #Navies Bayes\n",
    "    naive_bayes.GaussianNB(),\n",
    "    naive_bayes.BernoulliNB(),\n",
    "    #SVM\n",
    "    svm.NuSVC(probability=True),\n",
    "    svm.SVC(probability=True, kernel='linear')\n",
    "    ]\n",
    "MLA2=[\n",
    "     naive_bayes.BernoulliNB(),\n",
    "     svm.LinearSVC(random_state=0), \n",
    "     ensemble.RandomForestClassifier(random_state=0),\n",
    "     tree.DecisionTreeClassifier(random_state=0),\n",
    "     tree.ExtraTreeClassifier(random_state=0)\n",
    "] \n",
    "\n",
    "\n"
   ]
  },
  {
   "cell_type": "code",
   "execution_count": 33,
   "id": "3d743c9a",
   "metadata": {},
   "outputs": [
    {
     "data": {
      "text/plain": [
       "(400, 24)"
      ]
     },
     "execution_count": 33,
     "metadata": {},
     "output_type": "execute_result"
    }
   ],
   "source": [
    "ind_col = [col for col in df.columns if col != \"'class'\"]\n",
    "X = ind_col\n",
    "Y =\"'class'\"\n",
    "x = df[ind_col]\n",
    "a=df[ind_col]\n",
    "y =df[\"'class'\"]\n",
    "scaler = MinMaxScaler()\n",
    "x=scaler.fit_transform(x)\n",
    "y.shape\n",
    "x.shape"
   ]
  },
  {
   "cell_type": "code",
   "execution_count": 34,
   "id": "093889e4",
   "metadata": {},
   "outputs": [
    {
     "name": "stdout",
     "output_type": "stream",
     "text": [
      "(300, 24)\n",
      "(100, 24)\n"
     ]
    }
   ],
   "source": [
    "#training the model\n",
    "X_train, X_test, y_train, y_test=model_selection.train_test_split(df[X], df[Y], test_size = 0.25, random_state = 0)\n",
    "print(X_train.shape)\n",
    "print(X_test.shape)"
   ]
  },
  {
   "cell_type": "code",
   "execution_count": 116,
   "id": "74c7aea9",
   "metadata": {},
   "outputs": [
    {
     "data": {
      "text/html": [
       "<div>\n",
       "<style scoped>\n",
       "    .dataframe tbody tr th:only-of-type {\n",
       "        vertical-align: middle;\n",
       "    }\n",
       "\n",
       "    .dataframe tbody tr th {\n",
       "        vertical-align: top;\n",
       "    }\n",
       "\n",
       "    .dataframe thead th {\n",
       "        text-align: right;\n",
       "    }\n",
       "</style>\n",
       "<table border=\"1\" class=\"dataframe\">\n",
       "  <thead>\n",
       "    <tr style=\"text-align: right;\">\n",
       "      <th></th>\n",
       "      <th>MLA Name</th>\n",
       "      <th>MLA Test Accuracy</th>\n",
       "    </tr>\n",
       "  </thead>\n",
       "  <tbody>\n",
       "    <tr>\n",
       "      <th>0</th>\n",
       "      <td>RandomForestClassifier</td>\n",
       "      <td>1.0</td>\n",
       "    </tr>\n",
       "    <tr>\n",
       "      <th>3</th>\n",
       "      <td>DecisionTreeClassifier</td>\n",
       "      <td>0.99</td>\n",
       "    </tr>\n",
       "    <tr>\n",
       "      <th>2</th>\n",
       "      <td>GaussianNB</td>\n",
       "      <td>0.97</td>\n",
       "    </tr>\n",
       "    <tr>\n",
       "      <th>4</th>\n",
       "      <td>ExtraTreeClassifier</td>\n",
       "      <td>0.94</td>\n",
       "    </tr>\n",
       "    <tr>\n",
       "      <th>1</th>\n",
       "      <td>BernoulliNB</td>\n",
       "      <td>0.9</td>\n",
       "    </tr>\n",
       "    <tr>\n",
       "      <th>7</th>\n",
       "      <td>NuSVC</td>\n",
       "      <td>0.85</td>\n",
       "    </tr>\n",
       "    <tr>\n",
       "      <th>5</th>\n",
       "      <td>KNeighborsClassifier</td>\n",
       "      <td>0.71</td>\n",
       "    </tr>\n",
       "    <tr>\n",
       "      <th>6</th>\n",
       "      <td>LinearSVC</td>\n",
       "      <td>0.65</td>\n",
       "    </tr>\n",
       "    <tr>\n",
       "      <th>8</th>\n",
       "      <td>SVC</td>\n",
       "      <td>0.62</td>\n",
       "    </tr>\n",
       "  </tbody>\n",
       "</table>\n",
       "</div>"
      ],
      "text/plain": [
       "                 MLA Name MLA Test Accuracy\n",
       "0  RandomForestClassifier               1.0\n",
       "3  DecisionTreeClassifier              0.99\n",
       "2              GaussianNB              0.97\n",
       "4     ExtraTreeClassifier              0.94\n",
       "1             BernoulliNB               0.9\n",
       "7                   NuSVC              0.85\n",
       "5    KNeighborsClassifier              0.71\n",
       "6               LinearSVC              0.65\n",
       "8                     SVC              0.62"
      ]
     },
     "execution_count": 116,
     "metadata": {},
     "output_type": "execute_result"
    }
   ],
   "source": [
    "MLA_columns = ['MLA Name', 'MLA Test Accuracy' ]\n",
    "MLA_compare = pd.DataFrame(columns = MLA_columns)\n",
    "\n",
    "\n",
    "row_index = 0\n",
    "for alg in MLA:\n",
    "    alg.fit(X_train, y_train)\n",
    "\n",
    "    alg_acc = accuracy_score(y_test, alg.predict(X_test))\n",
    "    MLA_name = alg.__class__.__name__\n",
    "    MLA_compare.loc[row_index, 'MLA Name'] = MLA_name\n",
    "    \n",
    "    MLA_compare.loc[row_index, 'MLA Test Accuracy'] = alg_acc\n",
    "\n",
    "   \n",
    "    \n",
    "    row_index+=1\n",
    "\n",
    "    \n",
    "MLA_compare.sort_values(by = ['MLA Test Accuracy'], ascending = False, inplace = True)\n",
    "MLA_compare"
   ]
  },
  {
   "cell_type": "markdown",
   "id": "ba564fe0",
   "metadata": {},
   "source": [
    "<div style='font-size:95%;'>\n",
    "    <a id='clean'></a>\n",
    "    <h1 style='color: Black; font-weight: bold; font-family: Cascadia code;'>\n",
    "        <center> Normalization </center>\n",
    "    </h1>\n",
    "</div>"
   ]
  },
  {
   "cell_type": "code",
   "execution_count": 117,
   "id": "11493518",
   "metadata": {},
   "outputs": [],
   "source": [
    "#Normalization\n",
    "scaler = MinMaxScaler()\n",
    "X_train = scaler.fit_transform(X_train)\n",
    "X_test = scaler.fit_transform(X_test)"
   ]
  },
  {
   "cell_type": "code",
   "execution_count": 118,
   "id": "ca5da610",
   "metadata": {},
   "outputs": [
    {
     "data": {
      "text/html": [
       "<div>\n",
       "<style scoped>\n",
       "    .dataframe tbody tr th:only-of-type {\n",
       "        vertical-align: middle;\n",
       "    }\n",
       "\n",
       "    .dataframe tbody tr th {\n",
       "        vertical-align: top;\n",
       "    }\n",
       "\n",
       "    .dataframe thead th {\n",
       "        text-align: right;\n",
       "    }\n",
       "</style>\n",
       "<table border=\"1\" class=\"dataframe\">\n",
       "  <thead>\n",
       "    <tr style=\"text-align: right;\">\n",
       "      <th></th>\n",
       "      <th>MLA Name</th>\n",
       "      <th>MLA Test Accuracy</th>\n",
       "    </tr>\n",
       "  </thead>\n",
       "  <tbody>\n",
       "    <tr>\n",
       "      <th>8</th>\n",
       "      <td>SVC</td>\n",
       "      <td>1.0</td>\n",
       "    </tr>\n",
       "    <tr>\n",
       "      <th>5</th>\n",
       "      <td>KNeighborsClassifier</td>\n",
       "      <td>0.99</td>\n",
       "    </tr>\n",
       "    <tr>\n",
       "      <th>6</th>\n",
       "      <td>LinearSVC</td>\n",
       "      <td>0.99</td>\n",
       "    </tr>\n",
       "    <tr>\n",
       "      <th>7</th>\n",
       "      <td>NuSVC</td>\n",
       "      <td>0.98</td>\n",
       "    </tr>\n",
       "    <tr>\n",
       "      <th>0</th>\n",
       "      <td>RandomForestClassifier</td>\n",
       "      <td>0.96</td>\n",
       "    </tr>\n",
       "    <tr>\n",
       "      <th>3</th>\n",
       "      <td>DecisionTreeClassifier</td>\n",
       "      <td>0.95</td>\n",
       "    </tr>\n",
       "    <tr>\n",
       "      <th>4</th>\n",
       "      <td>ExtraTreeClassifier</td>\n",
       "      <td>0.93</td>\n",
       "    </tr>\n",
       "    <tr>\n",
       "      <th>1</th>\n",
       "      <td>BernoulliNB</td>\n",
       "      <td>0.91</td>\n",
       "    </tr>\n",
       "    <tr>\n",
       "      <th>2</th>\n",
       "      <td>GaussianNB</td>\n",
       "      <td>0.71</td>\n",
       "    </tr>\n",
       "  </tbody>\n",
       "</table>\n",
       "</div>"
      ],
      "text/plain": [
       "                 MLA Name MLA Test Accuracy\n",
       "8                     SVC               1.0\n",
       "5    KNeighborsClassifier              0.99\n",
       "6               LinearSVC              0.99\n",
       "7                   NuSVC              0.98\n",
       "0  RandomForestClassifier              0.96\n",
       "3  DecisionTreeClassifier              0.95\n",
       "4     ExtraTreeClassifier              0.93\n",
       "1             BernoulliNB              0.91\n",
       "2              GaussianNB              0.71"
      ]
     },
     "execution_count": 118,
     "metadata": {},
     "output_type": "execute_result"
    }
   ],
   "source": [
    "# views each algorithm and its accuracy \n",
    "\n",
    "MLA_columns = ['MLA Name', 'MLA Test Accuracy']\n",
    "MLA_compare = pd.DataFrame(columns = MLA_columns)\n",
    "\n",
    "#fitting and traing the model\n",
    "row_index = 0\n",
    "for alg in MLA:\n",
    "    alg.fit(X_train, y_train)\n",
    "\n",
    "    alg_acc = accuracy_score(y_test, alg.predict(X_test))\n",
    "    MLA_name = alg.__class__.__name__\n",
    "    MLA_compare.loc[row_index, 'MLA Name'] = MLA_name\n",
    "    \n",
    "    MLA_compare.loc[row_index, 'MLA Test Accuracy'] = alg_acc\n",
    "\n",
    "   \n",
    "    \n",
    "    row_index+=1\n",
    "MLA_compare.sort_values(by = ['MLA Test Accuracy'], ascending = False, inplace = True)\n",
    "MLA_compare"
   ]
  },
  {
   "cell_type": "code",
   "execution_count": 35,
   "id": "d57cf270",
   "metadata": {},
   "outputs": [],
   "source": [
    "#xb have all the feature minus the target class\n",
    "Xb=df[ind_col]\n",
    "Yb=df[\"'class'\"]"
   ]
  },
  {
   "cell_type": "code",
   "execution_count": 36,
   "id": "f0b82bf6",
   "metadata": {},
   "outputs": [
    {
     "data": {
      "image/png": "[encoded data removed]",
      "text/plain": [
       "<Figure size 432x288 with 1 Axes>"
      ]
     },
     "metadata": {},
     "output_type": "display_data"
    }
   ],
   "source": [
    "#Treating imbalanced dataset with Oversampling method \n",
    "from imblearn.over_sampling import RandomOverSampler\n",
    "\n",
    "rus = RandomOverSampler(sampling_strategy=1) # Numerical value\n",
    "# rus = RandomUnderSampler(sampling_strategy=\"not minority\") # String\n",
    "X_res, y_res = rus.fit_resample(Xb, Yb)\n",
    "\n",
    "ax = y_res.value_counts().plot.pie(autopct='%.2f')\n",
    "\n",
    "_ = ax.set_title(\"Over-sampling\")\n",
    "     "
   ]
  },
  {
   "cell_type": "markdown",
   "id": "aeadc2eb",
   "metadata": {},
   "source": [
    "0 : ckd \n",
    "1 : notckd"
   ]
  },
  {
   "cell_type": "code",
   "execution_count": 37,
   "id": "84bda31f",
   "metadata": {},
   "outputs": [
    {
     "data": {
      "text/plain": [
       "0.0    250\n",
       "1.0    250\n",
       "Name: 'class', dtype: int64"
      ]
     },
     "execution_count": 37,
     "metadata": {},
     "output_type": "execute_result"
    }
   ],
   "source": [
    "#verifying if the dataset now is balanced \n",
    "y_res.value_counts()"
   ]
  },
  {
   "cell_type": "code",
   "execution_count": 110,
   "id": "277cef68",
   "metadata": {},
   "outputs": [],
   "source": [
    "#Normalization\n",
    "scaler = MinMaxScaler()\n",
    "X_res=scaler.fit_transform(X_res)"
   ]
  },
  {
   "cell_type": "code",
   "execution_count": 111,
   "id": "f4e9653d",
   "metadata": {
    "scrolled": true
   },
   "outputs": [
    {
     "data": {
      "text/plain": [
       "array([[0.52272727, 0.23076923, 0.75      , ..., 0.        , 0.        ,\n",
       "        0.        ],\n",
       "       [0.05681818, 0.        , 0.75      , ..., 0.        , 0.        ,\n",
       "        0.        ],\n",
       "       [0.68181818, 0.23076923, 0.25      , ..., 1.        , 0.        ,\n",
       "        1.        ],\n",
       "       ...,\n",
       "       [0.52272727, 0.23076923, 1.        , ..., 0.        , 0.        ,\n",
       "        0.        ],\n",
       "       [0.56818182, 0.23076923, 0.75      , ..., 0.        , 0.        ,\n",
       "        0.        ],\n",
       "       [0.375     , 0.20360825, 0.75      , ..., 0.        , 0.        ,\n",
       "        0.        ]])"
      ]
     },
     "execution_count": 111,
     "metadata": {},
     "output_type": "execute_result"
    }
   ],
   "source": [
    "X_res"
   ]
  },
  {
   "cell_type": "markdown",
   "id": "9bd4867b",
   "metadata": {},
   "source": [
    "<div style='font-size:85%;'>\n",
    "    <a id='discover'></a>\n",
    "    <h1 style='color: black; font-weight: bold; font-family: Cascadia code;'>\n",
    "        <center> Modeling +grid search</center>\n",
    "    </h1>\n",
    "</div> "
   ]
  },
  {
   "cell_type": "code",
   "execution_count": 112,
   "id": "74678a5a",
   "metadata": {},
   "outputs": [
    {
     "name": "stdout",
     "output_type": "stream",
     "text": [
      "(375, 24)\n",
      "(125, 24)\n"
     ]
    }
   ],
   "source": [
    "#splitting the dataset\n",
    "X_train, X_test, y_train, y_test=model_selection.train_test_split(X_res, y_res, test_size = 0.25, random_state = 0)\n",
    "print(X_train.shape)\n",
    "print(X_test.shape)"
   ]
  },
  {
   "cell_type": "code",
   "execution_count": 113,
   "id": "11685918",
   "metadata": {},
   "outputs": [
    {
     "data": {
      "text/html": [
       "<div>\n",
       "<style scoped>\n",
       "    .dataframe tbody tr th:only-of-type {\n",
       "        vertical-align: middle;\n",
       "    }\n",
       "\n",
       "    .dataframe tbody tr th {\n",
       "        vertical-align: top;\n",
       "    }\n",
       "\n",
       "    .dataframe thead th {\n",
       "        text-align: right;\n",
       "    }\n",
       "</style>\n",
       "<table border=\"1\" class=\"dataframe\">\n",
       "  <thead>\n",
       "    <tr style=\"text-align: right;\">\n",
       "      <th></th>\n",
       "      <th>MLA Name</th>\n",
       "      <th>MLA Test Accuracy</th>\n",
       "    </tr>\n",
       "  </thead>\n",
       "  <tbody>\n",
       "    <tr>\n",
       "      <th>0</th>\n",
       "      <td>RandomForestClassifier</td>\n",
       "      <td>1.0</td>\n",
       "    </tr>\n",
       "    <tr>\n",
       "      <th>3</th>\n",
       "      <td>DecisionTreeClassifier</td>\n",
       "      <td>1.0</td>\n",
       "    </tr>\n",
       "    <tr>\n",
       "      <th>4</th>\n",
       "      <td>ExtraTreeClassifier</td>\n",
       "      <td>0.984</td>\n",
       "    </tr>\n",
       "    <tr>\n",
       "      <th>8</th>\n",
       "      <td>SVC</td>\n",
       "      <td>0.984</td>\n",
       "    </tr>\n",
       "    <tr>\n",
       "      <th>6</th>\n",
       "      <td>LinearSVC</td>\n",
       "      <td>0.976</td>\n",
       "    </tr>\n",
       "    <tr>\n",
       "      <th>2</th>\n",
       "      <td>GaussianNB</td>\n",
       "      <td>0.968</td>\n",
       "    </tr>\n",
       "    <tr>\n",
       "      <th>5</th>\n",
       "      <td>KNeighborsClassifier</td>\n",
       "      <td>0.968</td>\n",
       "    </tr>\n",
       "    <tr>\n",
       "      <th>7</th>\n",
       "      <td>NuSVC</td>\n",
       "      <td>0.936</td>\n",
       "    </tr>\n",
       "    <tr>\n",
       "      <th>1</th>\n",
       "      <td>BernoulliNB</td>\n",
       "      <td>0.904</td>\n",
       "    </tr>\n",
       "  </tbody>\n",
       "</table>\n",
       "</div>"
      ],
      "text/plain": [
       "                 MLA Name MLA Test Accuracy\n",
       "0  RandomForestClassifier               1.0\n",
       "3  DecisionTreeClassifier               1.0\n",
       "4     ExtraTreeClassifier             0.984\n",
       "8                     SVC             0.984\n",
       "6               LinearSVC             0.976\n",
       "2              GaussianNB             0.968\n",
       "5    KNeighborsClassifier             0.968\n",
       "7                   NuSVC             0.936\n",
       "1             BernoulliNB             0.904"
      ]
     },
     "execution_count": 113,
     "metadata": {},
     "output_type": "execute_result"
    }
   ],
   "source": [
    "# list of ml algorithm and its accuracy \n",
    "MLA_columns = ['MLA Name', 'MLA Test Accuracy' ]\n",
    "MLA_compare = pd.DataFrame(columns = MLA_columns)\n",
    "\n",
    "#Training , fiting and predicting \n",
    "row_index = 0\n",
    "for alg in MLA:\n",
    "    alg.fit(X_train, y_train)\n",
    "\n",
    "    alg_acc = accuracy_score(y_test, alg.predict(X_test))\n",
    "    MLA_name = alg.__class__.__name__\n",
    "    MLA_compare.loc[row_index, 'MLA Name'] = MLA_name\n",
    "    \n",
    "    MLA_compare.loc[row_index, 'MLA Test Accuracy'] = alg_acc\n",
    "\n",
    "   \n",
    "    \n",
    "    row_index+=1\n",
    "\n",
    "    \n",
    "MLA_compare.sort_values(by = ['MLA Test Accuracy'], ascending = False, inplace = True)\n",
    "MLA_compare"
   ]
  },
  {
   "cell_type": "markdown",
   "id": "006b4fdc",
   "metadata": {},
   "source": [
    "grid search \n"
   ]
  },
  {
   "cell_type": "code",
   "execution_count": 46,
   "id": "6d28547b",
   "metadata": {},
   "outputs": [],
   "source": [
    "from sklearn.model_selection import GridSearchCV\n"
   ]
  },
  {
   "cell_type": "code",
   "execution_count": 52,
   "id": "dd354574",
   "metadata": {},
   "outputs": [
    {
     "name": "stdout",
     "output_type": "stream",
     "text": [
      "{'leaf_size': 1, 'n_neighbors': 2, 'p': 2} KNeighborsClassifier(leaf_size=1, n_neighbors=2) 0.9919630156472262\n"
     ]
    }
   ],
   "source": [
    "#Applying GridSearch with knn\n",
    "param_grid = {\"n_neighbors\": range(1, 20), \"leaf_size\": range(1,20), \"p\": [1,2]}\n",
    "knn_cv = GridSearchCV(neighbors.KNeighborsClassifier(), param_grid, cv=10)\n",
    "knn_cv.fit(X_train, y_train)\n",
    "print(knn_cv.best_params_, knn_cv.best_estimator_, knn_cv.best_score_)"
   ]
  },
  {
   "cell_type": "code",
   "execution_count": 51,
   "id": "291cb525",
   "metadata": {},
   "outputs": [
    {
     "name": "stdout",
     "output_type": "stream",
     "text": [
      "{'C': 100, 'gamma': 1, 'kernel': 'rbf'} SVC(C=100, gamma=1) 0.9945945945945945\n"
     ]
    }
   ],
   "source": [
    "#Applying GridSearch with svc\n",
    "param_grid = {'C': [0.1, 1, 10, 100, 1000],\n",
    "              'gamma': [1, 0.1, 0.01, 0.001, 0.0001],\n",
    "              'kernel': ['rbf', 'linear', 'poly', 'sigmoid']}\n",
    "svc_cv = GridSearchCV(svm.SVC(), param_grid, cv=10)\n",
    "svc_cv.fit(X_train, y_train)\n",
    "print(svc_cv.best_params_, svc_cv.best_estimator_, svc_cv.best_score_)"
   ]
  },
  {
   "cell_type": "code",
   "execution_count": 48,
   "id": "a4dbc621",
   "metadata": {},
   "outputs": [
    {
     "name": "stdout",
     "output_type": "stream",
     "text": [
      "{'criterion': 'gini', 'max_depth': 4, 'max_features': 'auto', 'n_estimators': 200} RandomForestClassifier(max_depth=4, max_features='auto', n_estimators=200,\n",
      "                       random_state=42) 0.9920341394025606\n"
     ]
    }
   ],
   "source": [
    "#Applying GridSearch with RandomForest\n",
    "param_grid = { \n",
    "    'n_estimators': [200, 500],\n",
    "    'max_features': ['auto', 'sqrt', 'log2'],\n",
    "    'max_depth' : [4,5,6,7,8],\n",
    "    'criterion' :['gini', 'entropy']}\n",
    "RFC_cv = GridSearchCV( ensemble.RandomForestClassifier(random_state=42), param_grid, cv=10)\n",
    "RFC_cv.fit(X_train, y_train)\n",
    "print(RFC_cv.best_params_, RFC_cv.best_estimator_, RFC_cv.best_score_)"
   ]
  },
  {
   "cell_type": "code",
   "execution_count": 92,
   "id": "18460228",
   "metadata": {},
   "outputs": [
    {
     "name": "stdout",
     "output_type": "stream",
     "text": [
      "{'alpha': 0.01, 'binarize': 0.0, 'class_prior': None, 'fit_prior': True} BernoulliNB(alpha=0.01) 0.95\n"
     ]
    }
   ],
   "source": [
    "#Applying GridSearch with Naive Bayes \n",
    "param_grid = { \n",
    "          'alpha': [0.01, 0.1, 0.5, 1.0, 10.0],\n",
    "          'fit_prior': [True, False],\n",
    "          'class_prior': [None, [0.1,]* 2, ],\n",
    "          'binarize': [None, 0.0, 8.5, 10.0]}\n",
    "B_cv = GridSearchCV( naive_bayes.BernoulliNB(), param_grid, cv=10)\n",
    "B_cv.fit(X_train, y_train)\n",
    "print(B_cv.best_params_, B_cv.best_estimator_, B_cv.best_score_)"
   ]
  },
  {
   "cell_type": "code",
   "execution_count": 55,
   "id": "5539417d",
   "metadata": {},
   "outputs": [],
   "source": [
    "# All grid search examples in one list\n",
    "MLA_gs = [\n",
    "    ensemble.RandomForestClassifier(max_depth=4, max_features='auto', n_estimators=200,random_state=0),\n",
    "    naive_bayes.BernoulliNB(alpha=0.01, binarize=None),\n",
    "    neighbors.KNeighborsClassifier(leaf_size=1, n_neighbors=2, p=2),\n",
    "    svm.SVC(C=100,gamma=1,kernel='rbf') \n",
    "    ]"
   ]
  },
  {
   "cell_type": "code",
   "execution_count": 120,
   "id": "2ea049ca",
   "metadata": {},
   "outputs": [
    {
     "data": {
      "text/html": [
       "<div>\n",
       "<style scoped>\n",
       "    .dataframe tbody tr th:only-of-type {\n",
       "        vertical-align: middle;\n",
       "    }\n",
       "\n",
       "    .dataframe tbody tr th {\n",
       "        vertical-align: top;\n",
       "    }\n",
       "\n",
       "    .dataframe thead th {\n",
       "        text-align: right;\n",
       "    }\n",
       "</style>\n",
       "<table border=\"1\" class=\"dataframe\">\n",
       "  <thead>\n",
       "    <tr style=\"text-align: right;\">\n",
       "      <th></th>\n",
       "      <th>MLA Name</th>\n",
       "      <th>MLA Test Accuracy</th>\n",
       "    </tr>\n",
       "  </thead>\n",
       "  <tbody>\n",
       "    <tr>\n",
       "      <th>2</th>\n",
       "      <td>KNeighborsClassifier</td>\n",
       "      <td>1.0</td>\n",
       "    </tr>\n",
       "    <tr>\n",
       "      <th>1</th>\n",
       "      <td>BernoulliNB</td>\n",
       "      <td>0.96</td>\n",
       "    </tr>\n",
       "    <tr>\n",
       "      <th>0</th>\n",
       "      <td>RandomForestClassifier</td>\n",
       "      <td>0.95</td>\n",
       "    </tr>\n",
       "    <tr>\n",
       "      <th>3</th>\n",
       "      <td>SVC</td>\n",
       "      <td>0.89</td>\n",
       "    </tr>\n",
       "  </tbody>\n",
       "</table>\n",
       "</div>"
      ],
      "text/plain": [
       "                 MLA Name MLA Test Accuracy\n",
       "2    KNeighborsClassifier               1.0\n",
       "1             BernoulliNB              0.96\n",
       "0  RandomForestClassifier              0.95\n",
       "3                     SVC              0.89"
      ]
     },
     "execution_count": 120,
     "metadata": {},
     "output_type": "execute_result"
    }
   ],
   "source": [
    "#Applying Different machine learning algorithms \n",
    "MLA_columns = ['MLA Name', 'MLA Test Accuracy' ]\n",
    "MLA_compare = pd.DataFrame(columns = MLA_columns)\n",
    "\n",
    "\n",
    "row_index = 0\n",
    "for alg in MLA_gs:\n",
    "    alg.fit(X_train, y_train)\n",
    "\n",
    "    alg_acc = accuracy_score(y_test, alg.predict(X_test))\n",
    "    MLA_name = alg.__class__.__name__\n",
    "    MLA_compare.loc[row_index, 'MLA Name'] = MLA_name\n",
    "    \n",
    "    MLA_compare.loc[row_index, 'MLA Test Accuracy'] = alg_acc\n",
    "\n",
    "   \n",
    "    \n",
    "    row_index+=1\n",
    "MLA_compare.sort_values(by = ['MLA Test Accuracy'], ascending = False, inplace = True)\n",
    "MLA_compare"
   ]
  },
  {
   "cell_type": "raw",
   "id": "43a3c972",
   "metadata": {},
   "source": [
    "In this article we chose the models that have the best accuracy"
   ]
  }
 ],
 "metadata": {
  "kernelspec": {
   "display_name": "Python 3",
   "language": "python",
   "name": "python3"
  },
  "language_info": {
   "codemirror_mode": {
    "name": "ipython",
    "version": 3
   },
   "file_extension": ".py",
   "mimetype": "text/x-python",
   "name": "python",
   "nbconvert_exporter": "python",
   "pygments_lexer": "ipython3",
   "version": "3.8.8"
  }
 },
 "nbformat": 4,
 "nbformat_minor": 5
}
